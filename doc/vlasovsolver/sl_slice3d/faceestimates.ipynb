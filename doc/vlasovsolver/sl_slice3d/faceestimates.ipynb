{
 "metadata": {
  "name": ""
 },
 "nbformat": 3,
 "nbformat_minor": 0,
 "worksheets": [
  {
   "cells": [
    {
     "cell_type": "heading",
     "level": 1,
     "metadata": {},
     "source": [
      "Computation of face value and derivative estimates for Slice3D Vlasov solver. "
     ]
    },
    {
     "cell_type": "markdown",
     "metadata": {},
     "source": [
      "This sheet contains up to eight order estimates. In White et al. PQM paper up sixth order estimates are give. See that paper for more background.\n",
      "\n",
      "\"A high-order finite volume remapping scheme for nonuniform grids: The piecewise quartic method (PQM)\", White L. and Adcroft A., J. Comp. Phys., 227, 7394\u20137422, 2008"
     ]
    },
    {
     "cell_type": "code",
     "collapsed": false,
     "input": [
      "from sympy import *\n",
      "init_printing()"
     ],
     "language": "python",
     "metadata": {},
     "outputs": [],
     "prompt_number": 3
    },
    {
     "cell_type": "markdown",
     "metadata": {},
     "source": [
      "rho_hat is the density function, which when integrated gives us our density values in the cells.\n",
      "\n",
      "x is the normalized coordinate,  x=(v-v_{i-1/2})/dv, where v_{i-1/2} is the velocity at the left face of the center cell i\n",
      "\n",
      "cf is center cell volume average\n",
      "p1f, p2f, p3f, ... are the cell volume averages of cells in the positive direction at a distance of 1, 2, 3\n",
      "m1f, m2f, m3f, ... are the cell volume averages of cells in the negative direction at a distance of 1, 2, 3\n"
     ]
    },
    {
     "cell_type": "markdown",
     "metadata": {},
     "source": [
      "8th order left-face value estimate: h8"
     ]
    },
    {
     "cell_type": "code",
     "collapsed": false,
     "input": [
      "a,b,c,d,e,f,g,h=symbols('a b c d e f g h ')\n",
      "v,dv=symbols('v dv')\n",
      "m4f,m3f,m2f, m1f,cf,p1f,p2f, p3f =symbols('m4f m3f m2f m1f cf p1f p2f p3f  ')\n",
      "\n",
      "rho_hat=a+b*v+c*v**2 + d*v**3 + e*v**4 + f*v**5 + g*v**6 + h*v**7\n",
      "\n",
      "ans_a=solve([\n",
      "             integrate(rho_hat,(v,-4,-3))-m4f, \n",
      "             integrate(rho_hat,(v,-3,-2))-m3f, \n",
      "             integrate(rho_hat,(v,-2,-1))-m2f,\n",
      "             integrate(rho_hat,(v,-1,0))-m1f,\n",
      "             integrate(rho_hat,(v,0,1))-cf,\n",
      "             integrate(rho_hat,(v,1,2))-p1f, \n",
      "             integrate(rho_hat,(v,2,3))-p2f, \n",
      "             integrate(rho_hat,(v,3,4))-p3f ] ,[a,b,c,d,e,f,g,h])\n",
      "\n",
      "rho_hat_ans=rho_hat.subs([(a,ans_a[a]),\n",
      "                          (b,ans_a[b]),\n",
      "                          (c,ans_a[c]),\n",
      "                          (d,ans_a[d]),\n",
      "                          (e,ans_a[e]),\n",
      "                          (f,ans_a[f]),\n",
      "                          (g,ans_a[g]),\n",
      "                          (h,ans_a[h])])\n",
      "#collect(rho_hat_ans,v)\n",
      "\n",
      "simplify(rho_hat_ans.subs(v,0))*840\n"
     ],
     "language": "python",
     "metadata": {},
     "outputs": [
      {
       "latex": [
        "$$533 cf + 533 m1f - 139 m2f + 29 m3f - 3 m4f - 139 p1f + 29 p2f - 3 p3f$$"
       ],
       "metadata": {},
       "output_type": "pyout",
       "png": "[encoded data removed]",
       "prompt_number": 4,
       "text": [
        "533\u22c5cf + 533\u22c5m1f - 139\u22c5m2f + 29\u22c5m3f - 3\u22c5m4f - 139\u22c5p1f + 29\u22c5p2f - 3\u22c5p3f"
       ]
      }
     ],
     "prompt_number": 4
    },
    {
     "cell_type": "markdown",
     "metadata": {},
     "source": [
      "Now compute left-face 7:th order derivative estimates: dh7"
     ]
    },
    {
     "cell_type": "code",
     "collapsed": false,
     "input": [
      "d_rho_left=simplify(diff(rho_hat_ans,v).subs(v,0))\n",
      "d_rho_left*5040"
     ],
     "language": "python",
     "metadata": {},
     "outputs": [
      {
       "latex": [
        "$$7175 cf - 7175 m1f + 889 m2f - 119 m3f + 9 m4f - 889 p1f + 119 p2f - 9 p3f$$"
       ],
       "metadata": {},
       "output_type": "pyout",
       "png": "[encoded data removed]",
       "prompt_number": 63,
       "text": [
        "7175\u22c5cf - 7175\u22c5m1f + 889\u22c5m2f - 119\u22c5m3f + 9\u22c5m4f - 889\u22c5p1f + 119\u22c5p2f - 9\u22c5p3f"
       ]
      }
     ],
     "prompt_number": 63
    },
    {
     "cell_type": "markdown",
     "metadata": {},
     "source": [
      "H6 left face estimate"
     ]
    },
    {
     "cell_type": "code",
     "collapsed": false,
     "input": [
      "a,b,c,d,e,f=symbols('a b c d e f')\n",
      "v,dv=symbols('v dv')\n",
      "m3f,m2f, m1f,cf,p1f,p2f=symbols('m3f m2f m1f cf p1f p2f')\n",
      "\n",
      "rho_hat=a+b*v+c*v**2 + d*v**3 + e*v**4 + f*v**5\n",
      "\n",
      "ans_a=solve([ \n",
      "              integrate(rho_hat,(v,-3,-2))-m3f,\n",
      "        integrate(rho_hat,(v,-2,-1))-m2f,\n",
      "        integrate(rho_hat,(v,-1,0))-m1f,\n",
      "        integrate(rho_hat,(v,0,1))-cf,\n",
      "        integrate(rho_hat,(v,1,2))-p1f, \n",
      "        integrate(rho_hat,(v,2,3))-p2f ] ,[a,b,c,d,e,f])\n",
      "\n",
      "rho_hat_ans=rho_hat.subs([(a,ans_a[a]),(b,ans_a[b]),(c,ans_a[c]),(d,ans_a[d]),(e,ans_a[e]),(f,ans_a[f])])\n",
      "#collect(rho_hat_ans,v)\n",
      "\n",
      "simplify(rho_hat_ans.subs(v,0))\n"
     ],
     "language": "python",
     "metadata": {},
     "outputs": [
      {
       "latex": [
        "$$\\frac{37 cf}{60} + \\frac{37 m1f}{60} - \\frac{2 m2f}{15} + \\frac{m3f}{60} - \\frac{2 p1f}{15} + \\frac{p2f}{60}$$"
       ],
       "metadata": {},
       "output_type": "pyout",
       "png": "[encoded data removed]",
       "prompt_number": 64,
       "text": [
        "37\u22c5cf   37\u22c5m1f   2\u22c5m2f   m3f   2\u22c5p1f   p2f\n",
        "\u2500\u2500\u2500\u2500\u2500 + \u2500\u2500\u2500\u2500\u2500\u2500 - \u2500\u2500\u2500\u2500\u2500 + \u2500\u2500\u2500 - \u2500\u2500\u2500\u2500\u2500 + \u2500\u2500\u2500\n",
        "  60      60       15     60     15     60"
       ]
      }
     ],
     "prompt_number": 64
    },
    {
     "cell_type": "markdown",
     "metadata": {},
     "source": [
      "Now compute dh5 left estimate (depends on what order rho_hat ans is, h6 gives dh5) "
     ]
    },
    {
     "cell_type": "code",
     "collapsed": false,
     "input": [
      "d_rho_left=simplify(diff(rho_hat_ans,v).subs(v,0))\n",
      "d_rho_left*180"
     ],
     "language": "python",
     "metadata": {},
     "outputs": [
      {
       "latex": [
        "$$245 cf - 245 m1f + 25 m2f - 2 m3f - 25 p1f + 2 p2f$$"
       ],
       "metadata": {},
       "output_type": "pyout",
       "png": "[encoded data removed]",
       "prompt_number": 68,
       "text": [
        "245\u22c5cf - 245\u22c5m1f + 25\u22c5m2f - 2\u22c5m3f - 25\u22c5p1f + 2\u22c5p2f"
       ]
      }
     ],
     "prompt_number": 68
    },
    {
     "cell_type": "markdown",
     "metadata": {},
     "source": [
      "H4 face value estimate"
     ]
    },
    {
     "cell_type": "code",
     "collapsed": false,
     "input": [
      "a,b,c,d=symbols('a b c d ')\n",
      "v,dv=symbols('v dv')\n",
      "m2f, m1f,cf,p1f=symbols(' m2f m1f cf p1f ')\n",
      "\n",
      "rho_hat=a+b*v+c*v**2 + d*v**3 \n",
      "\n",
      "ans_a=solve([      \n",
      "        integrate(rho_hat,(v,-2,-1))-m2f,\n",
      "        integrate(rho_hat,(v,-1,0))-m1f,\n",
      "        integrate(rho_hat,(v,0,1))-cf,\n",
      "        integrate(rho_hat,(v,1,2))-p1f] ,[a,b,c,d])\n",
      "\n",
      "rho_hat_ans=rho_hat.subs([(a,ans_a[a]),(b,ans_a[b]),(c,ans_a[c]),(d,ans_a[d])])\n",
      "#collect(rho_hat_ans,v)\n",
      "\n",
      "simplify(rho_hat_ans.subs(v,0))"
     ],
     "language": "python",
     "metadata": {},
     "outputs": [
      {
       "latex": [
        "$$\\frac{7 cf}{12} + \\frac{7 m1f}{12} - \\frac{m2f}{12} - \\frac{p1f}{12}$$"
       ],
       "metadata": {},
       "output_type": "pyout",
       "png": "[encoded data removed]",
       "prompt_number": 71,
       "text": [
        "7\u22c5cf   7\u22c5m1f   m2f   p1f\n",
        "\u2500\u2500\u2500\u2500 + \u2500\u2500\u2500\u2500\u2500 - \u2500\u2500\u2500 - \u2500\u2500\u2500\n",
        " 12      12     12    12"
       ]
      }
     ],
     "prompt_number": 71
    },
    {
     "cell_type": "markdown",
     "metadata": {},
     "source": [
      "H3 face derivative estimate"
     ]
    },
    {
     "cell_type": "code",
     "collapsed": false,
     "input": [
      "d_rho_left=simplify(diff(rho_hat_ans,v).subs(v,0))\n",
      "d_rho_left"
     ],
     "language": "python",
     "metadata": {},
     "outputs": [
      {
       "latex": [
        "$$\\frac{5 cf}{4} - \\frac{5 m1f}{4} + \\frac{m2f}{12} - \\frac{p1f}{12}$$"
       ],
       "metadata": {},
       "output_type": "pyout",
       "png": "[encoded data removed]",
       "prompt_number": 72,
       "text": [
        "5\u22c5cf   5\u22c5m1f   m2f   p1f\n",
        "\u2500\u2500\u2500\u2500 - \u2500\u2500\u2500\u2500\u2500 + \u2500\u2500\u2500 - \u2500\u2500\u2500\n",
        " 4       4      12    12"
       ]
      }
     ],
     "prompt_number": 72
    }
   ],
   "metadata": {}
  }
 ]
}